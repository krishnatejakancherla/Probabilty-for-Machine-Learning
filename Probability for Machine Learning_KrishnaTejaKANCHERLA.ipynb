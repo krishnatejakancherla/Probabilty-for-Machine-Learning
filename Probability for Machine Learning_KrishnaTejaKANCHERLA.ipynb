{
 "cells": [
  {
   "cell_type": "code",
   "execution_count": 29,
   "metadata": {},
   "outputs": [],
   "source": [
    "# -*- coding: utf-8 -*-\n",
    "\"\"\"\n",
    "Created on Thu Dec 12 00:14:23 2019\n",
    "\n",
    "@author: Krishna Teja KANCHERLA\n",
    "\"\"\"\n",
    "\n",
    "import math\n",
    "import pandas as pd\n",
    "import numpy as np"
   ]
  },
  {
   "cell_type": "code",
   "execution_count": 30,
   "metadata": {},
   "outputs": [
    {
     "name": "stdout",
     "output_type": "stream",
     "text": [
      "Data : [[0.01 0.02 0.03 0.01 0.01 0.0 0.0 0.0 0.0]\n",
      " [0.01 0.03 0.04 0.04 0.01 0.0 0.0 0.0 0.0]\n",
      " [0.01 0.04 0.07 0.04 0.02 0.02 0.01 0.0 0.0]\n",
      " [0.0 0.02 0.05 0.06 0.04 0.03 0.02 0.01 0.0]\n",
      " [0.0 0.0 0.01 0.03 0.05 0.05 0.03 0.02 0.01]\n",
      " [0.0 0.0 0.0 0.01 0.02 0.03 0.04 0.03 0.02]]\n"
     ]
    }
   ],
   "source": [
    "file = pd.read_excel(\"dsa_proba_data.xlsx\")\n",
    "f_array = np.array(file)\n",
    "t_array = f_array[0:,1:]\n",
    "print(\"Data :\", t_array)"
   ]
  },
  {
   "cell_type": "code",
   "execution_count": 31,
   "metadata": {},
   "outputs": [],
   "source": [
    "ln = [0,1,2,3,4,5,6,7,8]\n",
    "\n",
    "x = np.array([[0]*9,\n",
    "              [1]*9,\n",
    "              [2]*9,\n",
    "              [3]*9,\n",
    "              [4]*9,\n",
    "              [5]*9],dtype=object)\n",
    "\n",
    "y = np.array([ln,ln,ln,ln,ln,ln],dtype=object)"
   ]
  },
  {
   "cell_type": "code",
   "execution_count": 32,
   "metadata": {},
   "outputs": [],
   "source": [
    "#Question1\n",
    "exp_x = np.multiply(x,t_array)\n",
    "exp_y = np.multiply(y,t_array)\n",
    "X = np.sum(exp_x)\n",
    "Y = np.sum(exp_y)\n"
   ]
  },
  {
   "cell_type": "code",
   "execution_count": 33,
   "metadata": {},
   "outputs": [
    {
     "name": "stdout",
     "output_type": "stream",
     "text": [
      "Random Vector Z:: [2.79 3.59]\n"
     ]
    }
   ],
   "source": [
    "exp_Z = np.array([X,Y])\n",
    "print(\"Random Vector Z::\", exp_Z)"
   ]
  },
  {
   "cell_type": "code",
   "execution_count": 34,
   "metadata": {},
   "outputs": [],
   "source": [
    "x_sub = np.subtract(x,X*np.ones((6,9)))\n",
    "y_sub = np.subtract(y,Y*np.ones((6,9)))\n",
    "\n",
    "x_sqr = np.square(x_sub)\n",
    "y_sqr = np.square(y_sub)\n",
    "\n",
    "exp_x_sqr = np.multiply(x_sqr,t_array)\n",
    "exp_y_sqr = np.multiply(y_sqr,t_array)"
   ]
  },
  {
   "cell_type": "code",
   "execution_count": 35,
   "metadata": {},
   "outputs": [
    {
     "name": "stdout",
     "output_type": "stream",
     "text": [
      "Variance[X] :: 2.2058999999999997\n",
      "Variance[Y] :: 3.8418999999999994\n"
     ]
    }
   ],
   "source": [
    "var_x = np.sum(exp_x_sqr)\n",
    "var_y = np.sum(exp_y_sqr)\n",
    "\n",
    "print(\"Variance[X] ::\",var_x)\n",
    "print(\"Variance[Y] ::\",var_y)"
   ]
  },
  {
   "cell_type": "code",
   "execution_count": 36,
   "metadata": {},
   "outputs": [
    {
     "name": "stdout",
     "output_type": "stream",
     "text": [
      "Expectation E(Z) :::  11.940000000000001\n"
     ]
    }
   ],
   "source": [
    "z = np.multiply(x,y)\n",
    "exp_z = np.multiply(z,t_array)\n",
    "Z = np.sum(exp_z)\n",
    "\n",
    "print(\"Expectation E(Z) ::: \",Z)\n",
    "\n"
   ]
  },
  {
   "cell_type": "code",
   "execution_count": 37,
   "metadata": {},
   "outputs": [
    {
     "name": "stdout",
     "output_type": "stream",
     "text": [
      "Covariance[X,Y] ::  1.923899999999998\n"
     ]
    }
   ],
   "source": [
    "cov_XY = Z - X * Y\n",
    "\n",
    "print(\"Covariance[X,Y] :: \",cov_XY)\n",
    "#If random variables X and Y are independent then cov(X, Y) = 0. Hence X and Y are not Independent as covariance is 1.92"
   ]
  },
  {
   "cell_type": "code",
   "execution_count": 38,
   "metadata": {},
   "outputs": [
    {
     "name": "stdout",
     "output_type": "stream",
     "text": [
      "Covariance matrix Cov(Z) ::\n",
      "[[2.2059 1.9239]\n",
      " [1.9239 3.8419]]\n"
     ]
    }
   ],
   "source": [
    "#Question2\n",
    "cov_Z = np.array([[var_x, cov_XY], [cov_XY, var_y]])\n",
    "print(\"Covariance matrix Cov(Z) ::\")\n",
    "print(cov_Z)"
   ]
  },
  {
   "cell_type": "code",
   "execution_count": 39,
   "metadata": {},
   "outputs": [
    {
     "data": {
      "image/png": "[encoded data removed]",
      "text/plain": [
       "<Figure size 288x288 with 2 Axes>"
      ]
     },
     "metadata": {
      "needs_background": "light"
     },
     "output_type": "display_data"
    }
   ],
   "source": [
    "import matplotlib.pyplot as plt\n",
    "\n",
    "plt.matshow(cov_Z);\n",
    "plt.colorbar()\n",
    "plt.show()"
   ]
  },
  {
   "cell_type": "code",
   "execution_count": 40,
   "metadata": {},
   "outputs": [
    {
     "name": "stdout",
     "output_type": "stream",
     "text": [
      "Correlation corr(X,Y) ::  0.6608707888350451\n"
     ]
    }
   ],
   "source": [
    "#Question3\n",
    "corr_XY = cov_XY/(math.sqrt(var_x)*math.sqrt(var_y))\n",
    "print(\"Correlation corr(X,Y) :: \",corr_XY)  \n"
   ]
  },
  {
   "cell_type": "code",
   "execution_count": 41,
   "metadata": {},
   "outputs": [
    {
     "name": "stdout",
     "output_type": "stream",
     "text": [
      "Variables X and Y are NOT independent\n"
     ]
    }
   ],
   "source": [
    "if corr_XY == 0:\n",
    "  print(\"Variables X and Y are independent\")\n",
    "else:\n",
    "  print(\"Variables X and Y are NOT independent\") # corr_XY is 0.66 (not zero)"
   ]
  },
  {
   "cell_type": "code",
   "execution_count": 42,
   "metadata": {},
   "outputs": [
    {
     "name": "stdout",
     "output_type": "stream",
     "text": [
      "α Value is ::  0.8721610227118175\n",
      "β Value is ::  1.1566707466340294\n"
     ]
    }
   ],
   "source": [
    "#Question4\n",
    "α =  cov_XY/var_x\n",
    "β = Y - α * X ## Provided Y = αX+β \n",
    "\n",
    "print(\"α Value is :: \", α)\n",
    "print(\"β Value is :: \", β)"
   ]
  },
  {
   "cell_type": "code",
   "execution_count": null,
   "metadata": {},
   "outputs": [],
   "source": []
  },
  {
   "cell_type": "code",
   "execution_count": null,
   "metadata": {},
   "outputs": [],
   "source": []
  }
 ],
 "metadata": {
  "kernelspec": {
   "display_name": "Python 3",
   "language": "python",
   "name": "python3"
  },
  "language_info": {
   "codemirror_mode": {
    "name": "ipython",
    "version": 3
   },
   "file_extension": ".py",
   "mimetype": "text/x-python",
   "name": "python",
   "nbconvert_exporter": "python",
   "pygments_lexer": "ipython3",
   "version": "3.7.3"
  }
 },
 "nbformat": 4,
 "nbformat_minor": 2
}
